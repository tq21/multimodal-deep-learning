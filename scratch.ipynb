{
 "cells": [
  {
   "cell_type": "code",
   "execution_count": 23,
   "metadata": {},
   "outputs": [],
   "source": [
    "import pandas as pd\n",
    "from pandas import DataFrame as df\n",
    "import numpy as np\n",
    "import torch\n",
    "from torch import nn\n",
    "from torch.utils.data import Dataset\n",
    "from torch.utils.data import DataLoader\n",
    "from torch.nn.utils.rnn import pad_sequence"
   ]
  },
  {
   "cell_type": "code",
   "execution_count": 2,
   "metadata": {},
   "outputs": [
    {
     "data": {
      "text/plain": [
       "'cpu'"
      ]
     },
     "execution_count": 2,
     "metadata": {},
     "output_type": "execute_result"
    }
   ],
   "source": [
    "device = \"cuda\" if torch.cuda.is_available() else \"cpu\"\n",
    "device"
   ]
  },
  {
   "cell_type": "code",
   "execution_count": 24,
   "metadata": {},
   "outputs": [
    {
     "name": "stdout",
     "output_type": "stream",
     "text": [
      "(100, 2)\n",
      "(265, 52)\n",
      "(32620, 6)\n",
      "(265, 3)\n"
     ]
    }
   ],
   "source": [
    "patients = pd.read_csv(\"data/patients.csv\",)\n",
    "encounters = pd.read_csv(\"data/admissions.csv\")\n",
    "lab_events = pd.read_csv(\"data/lab_events.csv\")\n",
    "labels = pd.read_csv(\"data/labels.csv\")\n",
    "print(patients.shape)\n",
    "print(encounters.shape)\n",
    "print(lab_events.shape)\n",
    "print(labels.shape)"
   ]
  },
  {
   "cell_type": "code",
   "execution_count": 122,
   "metadata": {},
   "outputs": [],
   "source": [
    "class PatientEncounter(Dataset):\n",
    "    def __init__(self, patients, encounters, lab_events, labels):\n",
    "        super().__init__()\n",
    "        self.patients = patients\n",
    "        self.encounters = encounters\n",
    "        self.lab_events = lab_events\n",
    "        self.labels = labels\n",
    "        \n",
    "        self.patient_ids = encounters.subject_id\n",
    "        self.encounter_ids = encounters.hadm_id\n",
    "\n",
    "    def __len__(self):\n",
    "        return len(self.patient_ids)\n",
    "\n",
    "    def __getitem__(self, index):\n",
    "        patient_id = self.patient_ids[index]\n",
    "        encounter_id = self.encounter_ids[index]\n",
    "        \n",
    "        # Load data for the given patient-encounter\n",
    "        data_patient = torch.from_numpy(self.patients.loc[self.patients.subject_id == patient_id].values).to(device)\n",
    "        data_encounter = torch.from_numpy(self.encounters.loc[(self.encounters.subject_id == patient_id) & (self.encounters.hadm_id == encounter_id)].values).to(device)\n",
    "        data_lab_events = torch.from_numpy(self.lab_events.loc[(self.lab_events.subject_id == patient_id) & (self.lab_events.hadm_id == encounter_id)].values).to(device)\n",
    "        X = [data_patient, data_encounter, data_lab_events]\n",
    "        y = torch.from_numpy(labels.loc[(labels.subject_id == patient_id) & (labels.hadm_id == encounter_id)].READMIT_ONE_WEEK.values).to(device)\n",
    "\n",
    "        return X, y\n",
    "\n",
    "# A custom collate function to pad the sequences\n",
    "def collate_fn(batch):\n",
    "    X, y = zip(*batch)\n",
    "    X = list(X)\n",
    "    y = torch.cat(y, dim=0)\n",
    "    return X, y\n",
    "\n",
    "train_data = PatientEncounter(patients, encounters, lab_events, labels)\n",
    "train_dataloader = DataLoader(train_data, batch_size=64, shuffle=False, collate_fn=collate_fn)"
   ]
  },
  {
   "cell_type": "code",
   "execution_count": 147,
   "metadata": {},
   "outputs": [
    {
     "data": {
      "text/plain": [
       "tensor([[0.2363]], grad_fn=<SigmoidBackward0>)"
      ]
     },
     "execution_count": 147,
     "metadata": {},
     "output_type": "execute_result"
    }
   ],
   "source": [
    "class LabModule(nn.Module):\n",
    "    def __init__(self):\n",
    "        super().__init__()\n",
    "\n",
    "        # self.lab_type = nn.Embedding(num_embeddings=100, embedding_dim=10) # input 1-d lab type index, output 10-d representation\n",
    "        self.lab_type = nn.Linear(in_features=1, out_features=10)\n",
    "        self.lab_value = nn.Linear(in_features=1, out_features=5) # input 1-d lab value, output 5-d representation\n",
    "        self.layer_out = nn.Linear(in_features=15, out_features=5) # input 10-d lab type + 5-d lab value, output 5-d representation\n",
    "    \n",
    "    def forward(self, x):\n",
    "        x_type = x[:, 0].unsqueeze(1)\n",
    "        x_value = x[:, 1].unsqueeze(1)\n",
    "        out = torch.cat((self.lab_type(x_type), self.lab_value(x_value)), dim=1)\n",
    "        out = self.layer_out(out)\n",
    "        return(out)\n",
    "\n",
    "class PatientEncounterModel(nn.Module):\n",
    "    def __init__(self):\n",
    "        super().__init__()\n",
    "        self.lab_module = LabModule()\n",
    "        self.layer_out = nn.Linear(in_features=59, out_features=1)\n",
    "        self.sigmoid = nn.Sigmoid()\n",
    "    \n",
    "    def forward(self, x):\n",
    "        # static features\n",
    "        # x[0] = patient features\n",
    "        # x[1] = encounter features\n",
    "        # x[2] = lab events\n",
    "        \n",
    "        # dynamic features\n",
    "        # x[3] = vitals\n",
    "        # x[4] = prescriptions\n",
    "        # x[5] = diagnoses\n",
    "        # x[6] = procedures\n",
    "        # x[7] = notes\n",
    "        \n",
    "        out = self.lab_module(x[2])\n",
    "        out = torch.cat((x[0], x[1], out), dim=1) # concatenate all features (static + dynamic)\n",
    "        out = self.layer_out(out)\n",
    "        out = self.sigmoid(out)\n",
    "        return(out)\n",
    "\n",
    "model = PatientEncounterModel().to(device)\n",
    "model\n",
    "\n",
    "# test:\n",
    "# the input of the module is a tensor of shape (batch_size, 2)\n",
    "# X_example = torch.randn(1, 2).to(device)\n",
    "# model(X_example)\n",
    "X_example = [torch.randn(1, 2).to(device), torch.randn(1, 52).to(device), torch.randn(1, 2).to(device)]\n",
    "model(X_example)"
   ]
  },
  {
   "cell_type": "code",
   "execution_count": 6,
   "metadata": {},
   "outputs": [
    {
     "name": "stdout",
     "output_type": "stream",
     "text": [
      "torch.Size([100, 2])\n",
      "torch.Size([100, 1])\n"
     ]
    }
   ],
   "source": [
    "n_input, n_out, batch_size, learning_rate = 2, 1, 100, 0.01\n",
    "data_x = torch.randn(batch_size, n_input)\n",
    "data_y = (torch.rand(size=(batch_size, 1)) < 0.5).float()\n",
    "print(data_x.size())\n",
    "print(data_y.size())"
   ]
  },
  {
   "cell_type": "code",
   "execution_count": 150,
   "metadata": {},
   "outputs": [
    {
     "name": "stdout",
     "output_type": "stream",
     "text": [
      "torch.Size([100, 10])\n",
      "torch.Size([100, 5])\n",
      "torch.Size([100, 15])\n"
     ]
    }
   ],
   "source": [
    "a = model.lab_type(data_x[:, 0].unsqueeze(1))\n",
    "b = model.lab_value(data_x[:, 1].unsqueeze(1))\n",
    "print(a.shape)\n",
    "print(b.shape)\n",
    "print(torch.cat((a, b), dim=1).shape)"
   ]
  },
  {
   "cell_type": "code",
   "execution_count": 125,
   "metadata": {},
   "outputs": [
    {
     "name": "stdout",
     "output_type": "stream",
     "text": [
      "torch.Size([100])\n",
      "torch.Size([200])\n"
     ]
    }
   ],
   "source": [
    "print(data_x[:, 0].shape)\n",
    "print(torch.cat((data_x[:,0], data_x[:,1]), dim=0).shape)"
   ]
  },
  {
   "cell_type": "code",
   "execution_count": 158,
   "metadata": {},
   "outputs": [
    {
     "name": "stdout",
     "output_type": "stream",
     "text": [
      "torch.Size([100, 5])\n"
     ]
    }
   ],
   "source": [
    "print(model.forward(data_x).shape)"
   ]
  }
 ],
 "metadata": {
  "kernelspec": {
   "display_name": "Python 3.9.9 64-bit",
   "language": "python",
   "name": "python3"
  },
  "language_info": {
   "codemirror_mode": {
    "name": "ipython",
    "version": 3
   },
   "file_extension": ".py",
   "mimetype": "text/x-python",
   "name": "python",
   "nbconvert_exporter": "python",
   "pygments_lexer": "ipython3",
   "version": "3.9.9"
  },
  "orig_nbformat": 4,
  "vscode": {
   "interpreter": {
    "hash": "aee8b7b246df8f9039afb4144a1f6fd8d2ca17a180786b69acc140d282b71a49"
   }
  }
 },
 "nbformat": 4,
 "nbformat_minor": 2
}
