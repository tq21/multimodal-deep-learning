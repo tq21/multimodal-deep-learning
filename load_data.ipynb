{
 "cells": [
  {
   "cell_type": "code",
   "execution_count": 54,
   "metadata": {},
   "outputs": [],
   "source": [
    "import pandas as pd\n",
    "import numpy as np\n",
    "from datetime import datetime\n",
    "pd.options.display.max_rows = 500"
   ]
  },
  {
   "cell_type": "code",
   "execution_count": null,
   "metadata": {},
   "outputs": [],
   "source": [
    "# 01: static patient data\n",
    "# Load data\n",
    "static_patient = pd.read_csv(\"data/raw/patients.csv.gz\")\n",
    "\n",
    "# Set column data types\n",
    "static_patient[\"dod\"] = pd.to_datetime(static_patient[\"dod\"], format=\"%Y-%m-%d\")\n",
    "static_patient[\"gender\"] = static_patient[\"gender\"].astype(\"category\")\n",
    "\n",
    "# Select columns needed\n",
    "static_patient = static_patient[['subject_id', 'gender', 'anchor_age']]\n",
    "\n",
    "print(\"01: STATIC PATIENT DATA PROCESSED!\")\n"
   ]
  },
  {
   "cell_type": "code",
   "execution_count": 59,
   "metadata": {},
   "outputs": [],
   "source": [
    "# 02: static admission data\n",
    "# Load data\n",
    "static_admission = pd.read_csv(\"data/raw/admissions.csv.gz\")\n",
    "\n",
    "# Set column data types\n",
    "# categorical columns\n",
    "cate_cols = ['admission_type', 'admission_location', 'discharge_location', 'insurance', 'language', 'marital_status', 'race']\n",
    "date_cols = ['admittime', 'dischtime', 'deathtime']\n",
    "\n",
    "for col in cate_cols:\n",
    "    static_admission[col] = static_admission[col].astype('category')\n",
    "\n",
    "for col in date_cols:\n",
    "    static_admission[col] = pd.to_datetime(static_admission[col], format=\"%Y-%m-%d %H:%M:%S\")\n",
    "\n",
    "# Select columns needed\n",
    "drop_cols = ['edregtime', 'edouttime', 'hospital_expire_flag']\n",
    "static_admission.drop(columns=drop_cols, inplace=True)\n",
    "\n",
    "# Define readmission within 7 days\n",
    "static_admission = static_admission.sort_values(by=['subject_id', 'admittime'])\n",
    "static_admission['time_to_readmission'] = static_admission.groupby('subject_id')['admittime'].shift(-1)\n",
    "static_admission['time_to_readmission'] = static_admission['time_to_readmission'] - static_admission['dischtime']\n",
    "static_admission['time_to_readmission'] = static_admission['time_to_readmission'].dt.days\n",
    "static_admission['readmission_30d'] = static_admission['time_to_readmission'] <= 30\n",
    "static_admission.drop(columns=['time_to_readmission'], inplace=True)\n",
    "\n",
    "print(\"02: STATIC ADMISSION DATA PROCESSED!\")"
   ]
  },
  {
   "cell_type": "code",
   "execution_count": null,
   "metadata": {},
   "outputs": [],
   "source": [
    "\n"
   ]
  },
  {
   "cell_type": "code",
   "execution_count": null,
   "metadata": {},
   "outputs": [],
   "source": []
  },
  {
   "cell_type": "code",
   "execution_count": null,
   "metadata": {},
   "outputs": [],
   "source": []
  },
  {
   "cell_type": "code",
   "execution_count": null,
   "metadata": {},
   "outputs": [],
   "source": []
  }
 ],
 "metadata": {
  "kernelspec": {
   "display_name": "Python 3",
   "language": "python",
   "name": "python3"
  },
  "language_info": {
   "codemirror_mode": {
    "name": "ipython",
    "version": 3
   },
   "file_extension": ".py",
   "mimetype": "text/x-python",
   "name": "python",
   "nbconvert_exporter": "python",
   "pygments_lexer": "ipython3",
   "version": "3.9.9"
  },
  "orig_nbformat": 4,
  "vscode": {
   "interpreter": {
    "hash": "aee8b7b246df8f9039afb4144a1f6fd8d2ca17a180786b69acc140d282b71a49"
   }
  }
 },
 "nbformat": 4,
 "nbformat_minor": 2
}
